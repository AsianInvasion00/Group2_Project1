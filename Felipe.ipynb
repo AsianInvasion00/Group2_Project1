{
 "cells": [
  {
   "cell_type": "code",
   "execution_count": 1,
   "metadata": {},
   "outputs": [],
   "source": [
    "import requests\n",
    "import pandas as pd\n",
    "import csv\n",
    "from pathlib import Path\n",
    "import matplotlib.pyplot as plt\n",
    "from scipy import stats\n",
    "import os\n",
    "import csv"
   ]
  },
  {
   "cell_type": "code",
   "execution_count": 2,
   "metadata": {},
   "outputs": [
    {
     "name": "stdout",
     "output_type": "stream",
     "text": [
      "<_csv.reader object at 0x7ff2db6edb30>\n",
      "['DATE', 'TDSP']\n",
      "['1980-01-01', '10.615740']\n",
      "['1980-04-01', '10.636900']\n",
      "['1980-07-01', '10.406386']\n",
      "['1980-10-01', '10.252837']\n",
      "['1981-01-01', '10.287516']\n",
      "['1981-04-01', '10.416878']\n",
      "['1981-07-01', '10.306743']\n",
      "['1981-10-01', '10.379325']\n",
      "['1982-01-01', '10.447258']\n",
      "['1982-04-01', '10.504029']\n",
      "['1982-07-01', '10.409941']\n",
      "['1982-10-01', '10.380410']\n",
      "['1983-01-01', '10.348922']\n",
      "['1983-04-01', '10.376333']\n",
      "['1983-07-01', '10.381299']\n",
      "['1983-10-01', '10.425534']\n",
      "['1984-01-01', '10.478991']\n",
      "['1984-04-01', '10.607963']\n",
      "['1984-07-01', '10.719033']\n",
      "['1984-10-01', '10.878463']\n",
      "['1985-01-01', '11.220536']\n",
      "['1985-04-01', '11.310744']\n",
      "['1985-07-01', '11.595799']\n",
      "['1985-10-01', '11.725570']\n",
      "['1986-01-01', '11.739687']\n",
      "['1986-04-01', '11.812105']\n",
      "['1986-07-01', '11.917140']\n",
      "['1986-10-01', '12.062025']\n",
      "['1987-01-01', '11.931285']\n",
      "['1987-04-01', '12.067256']\n",
      "['1987-07-01', '11.939659']\n",
      "['1987-10-01', '11.806446']\n",
      "['1988-01-01', '11.752855']\n",
      "['1988-04-01', '11.736396']\n",
      "['1988-07-01', '11.691190']\n",
      "['1988-10-01', '11.569183']\n",
      "['1989-01-01', '11.565868']\n",
      "['1989-04-01', '11.731492']\n",
      "['1989-07-01', '11.793877']\n",
      "['1989-10-01', '11.745679']\n",
      "['1990-01-01', '11.649150']\n",
      "['1990-04-01', '11.600660']\n",
      "['1990-07-01', '11.583131']\n",
      "['1990-10-01', '11.604449']\n",
      "['1991-01-01', '11.578032']\n",
      "['1991-04-01', '11.434237']\n",
      "['1991-07-01', '11.318681']\n",
      "['1991-10-01', '11.117333']\n",
      "['1992-01-01', '10.855581']\n",
      "['1992-04-01', '10.680886']\n",
      "['1992-07-01', '10.540050']\n",
      "['1992-10-01', '10.455215']\n",
      "['1993-01-01', '10.419139']\n",
      "['1993-04-01', '10.354430']\n",
      "['1993-07-01', '10.405427']\n",
      "['1993-10-01', '10.368518']\n",
      "['1994-01-01', '10.388445']\n",
      "['1994-04-01', '10.452491']\n",
      "['1994-07-01', '10.586958']\n",
      "['1994-10-01', '10.699630']\n",
      "['1995-01-01', '10.888513']\n",
      "['1995-04-01', '11.080721']\n",
      "['1995-07-01', '11.185719']\n",
      "['1995-10-01', '11.223493']\n",
      "['1996-01-01', '11.242343']\n",
      "['1996-04-01', '11.269972']\n",
      "['1996-07-01', '11.315366']\n",
      "['1996-10-01', '11.371211']\n",
      "['1997-01-01', '11.328849']\n",
      "['1997-04-01', '11.328918']\n",
      "['1997-07-01', '11.338020']\n",
      "['1997-10-01', '11.288261']\n",
      "['1998-01-01', '11.144147']\n",
      "['1998-04-01', '11.166536']\n",
      "['1998-07-01', '11.152642']\n",
      "['1998-10-01', '11.216343']\n",
      "['1999-01-01', '11.267941']\n",
      "['1999-04-01', '11.429754']\n",
      "['1999-07-01', '11.542359']\n",
      "['1999-10-01', '11.546130']\n",
      "['2000-01-01', '11.525337']\n",
      "['2000-04-01', '11.669062']\n",
      "['2000-07-01', '11.827220']\n",
      "['2000-10-01', '12.020487']\n",
      "['2001-01-01', '12.121152']\n",
      "['2001-04-01', '12.353634']\n",
      "['2001-07-01', '12.309625']\n",
      "['2001-10-01', '12.662143']\n",
      "['2002-01-01', '12.442115']\n",
      "['2002-04-01', '12.347863']\n",
      "['2002-07-01', '12.356125']\n",
      "['2002-10-01', '12.320268']\n",
      "['2003-01-01', '12.348067']\n",
      "['2003-04-01', '12.274712']\n",
      "['2003-07-01', '12.114260']\n",
      "['2003-10-01', '12.184712']\n",
      "['2004-01-01', '12.189125']\n",
      "['2004-04-01', '12.125358']\n",
      "['2004-07-01', '12.231868']\n",
      "['2004-10-01', '12.224184']\n",
      "['2005-01-01', '12.548985']\n",
      "['2005-04-01', '12.543675']\n",
      "['2005-07-01', '12.587784']\n",
      "['2005-10-01', '12.611487']\n",
      "['2006-01-01', '12.618817']\n",
      "['2006-04-01', '12.667022']\n",
      "['2006-07-01', '12.779304']\n",
      "['2006-10-01', '12.866873']\n",
      "['2007-01-01', '12.896722']\n",
      "['2007-04-01', '12.941819']\n",
      "['2007-07-01', '13.050642']\n",
      "['2007-10-01', '13.172721']\n",
      "['2008-01-01', '13.110655']\n",
      "['2008-04-01', '12.760976']\n",
      "['2008-07-01', '12.826082']\n",
      "['2008-10-01', '12.762670']\n",
      "['2009-01-01', '12.676246']\n",
      "['2009-04-01', '12.365322']\n",
      "['2009-07-01', '12.240999']\n",
      "['2009-10-01', '11.941790']\n",
      "['2010-01-01', '11.634188']\n",
      "['2010-04-01', '11.297374']\n",
      "['2010-07-01', '11.096391']\n",
      "['2010-10-01', '10.949832']\n",
      "['2011-01-01', '10.761016']\n",
      "['2011-04-01', '10.680833']\n",
      "['2011-07-01', '10.570842']\n",
      "['2011-10-01', '10.446358']\n",
      "['2012-01-01', '10.207318']\n",
      "['2012-04-01', '10.076971']\n",
      "['2012-07-01', '10.128193']\n",
      "['2012-10-01', '9.805904']\n",
      "['2013-01-01', '10.161567']\n",
      "['2013-04-01', '10.081705']\n",
      "['2013-07-01', '10.042948']\n",
      "['2013-10-01', '10.050144']\n",
      "['2014-01-01', '9.966645']\n",
      "['2014-04-01', '9.902279']\n",
      "['2014-07-01', '9.860731']\n",
      "['2014-10-01', '9.827322']\n",
      "['2015-01-01', '9.844577']\n",
      "['2015-04-01', '9.880728']\n",
      "['2015-07-01', '9.940023']\n",
      "['2015-10-01', '9.882719']\n",
      "['2016-01-01', '9.851830']\n",
      "['2016-04-01', '9.948323']\n",
      "['2016-07-01', '10.011080']\n",
      "['2016-10-01', '9.987304']\n",
      "['2017-01-01', '9.940956']\n",
      "['2017-04-01', '9.909240']\n",
      "['2017-07-01', '9.914957']\n",
      "['2017-10-01', '9.931330']\n",
      "['2018-01-01', '9.876377']\n",
      "['2018-04-01', '9.829940']\n",
      "['2018-07-01', '9.807417']\n",
      "['2018-10-01', '9.789796']\n",
      "['2019-01-01', '9.775563']\n",
      "['2019-04-01', '9.808918']\n",
      "['2019-07-01', '9.817769']\n",
      "['2019-10-01', '9.814026']\n",
      "['2020-01-01', '9.747136']\n",
      "['2020-04-01', '8.790223']\n",
      "['2020-07-01', '9.102953']\n",
      "['2020-10-01', '9.322791']\n",
      "['2021-01-01', '8.328619']\n",
      "['2021-04-01', '9.040158']\n",
      "['2021-07-01', '9.138448']\n",
      "['2021-10-01', '9.268719']\n",
      "['2022-01-01', '9.535774']\n",
      "['2022-04-01', '9.630056']\n",
      "['2022-07-01', '9.694032']\n",
      "['2022-10-01', '9.702047']\n"
     ]
    }
   ],
   "source": [
    "\n",
    "\n",
    "csvpath = os.path.join(\"/Users/felipepinheiro/Desktop/Group2_Project1/Resources/TDSP.csv\") \n",
    " \n",
    "\n",
    "\n",
    "with open(csvpath, newline='') as csvfile:\n",
    "    csvreader = csv.reader(csvfile, delimiter=',')\n",
    "    print(csvreader)\n",
    "          \n",
    "    for row in csvreader:\n",
    "        print(row)\n"
   ]
  },
  {
   "cell_type": "code",
   "execution_count": 5,
   "metadata": {},
   "outputs": [
    {
     "ename": "NameError",
     "evalue": "name 'data' is not defined",
     "output_type": "error",
     "traceback": [
      "\u001b[0;31m---------------------------------------------------------------------------\u001b[0m",
      "\u001b[0;31mNameError\u001b[0m                                 Traceback (most recent call last)",
      "\u001b[0;32m<ipython-input-5-bc331e2cd85d>\u001b[0m in \u001b[0;36m<module>\u001b[0;34m\u001b[0m\n\u001b[0;32m----> 1\u001b[0;31m \u001b[0mdata\u001b[0m\u001b[0;34m[\u001b[0m\u001b[0;34m'DATE'\u001b[0m\u001b[0;34m]\u001b[0m \u001b[0;34m=\u001b[0m \u001b[0mpd\u001b[0m\u001b[0;34m.\u001b[0m\u001b[0mto_datetime\u001b[0m\u001b[0;34m(\u001b[0m\u001b[0mdata\u001b[0m\u001b[0;34m[\u001b[0m\u001b[0;34m'DATE'\u001b[0m\u001b[0;34m]\u001b[0m\u001b[0;34m)\u001b[0m\u001b[0;34m\u001b[0m\u001b[0;34m\u001b[0m\u001b[0m\n\u001b[0m\u001b[1;32m      2\u001b[0m \u001b[0;34m\u001b[0m\u001b[0m\n\u001b[1;32m      3\u001b[0m \u001b[0;34m\u001b[0m\u001b[0m\n\u001b[1;32m      4\u001b[0m \u001b[0mdata\u001b[0m \u001b[0;34m=\u001b[0m \u001b[0mdata\u001b[0m\u001b[0;34m[\u001b[0m\u001b[0;34m(\u001b[0m\u001b[0mdata\u001b[0m\u001b[0;34m[\u001b[0m\u001b[0;34m'DATE'\u001b[0m\u001b[0;34m]\u001b[0m\u001b[0;34m.\u001b[0m\u001b[0mdt\u001b[0m\u001b[0;34m.\u001b[0m\u001b[0myear\u001b[0m \u001b[0;34m>=\u001b[0m \u001b[0;36m2020\u001b[0m\u001b[0;34m)\u001b[0m \u001b[0;34m&\u001b[0m \u001b[0;34m(\u001b[0m\u001b[0mdata\u001b[0m\u001b[0;34m[\u001b[0m\u001b[0;34m'DATE'\u001b[0m\u001b[0;34m]\u001b[0m\u001b[0;34m.\u001b[0m\u001b[0mdt\u001b[0m\u001b[0;34m.\u001b[0m\u001b[0myear\u001b[0m \u001b[0;34m<=\u001b[0m \u001b[0;36m2022\u001b[0m\u001b[0;34m)\u001b[0m\u001b[0;34m]\u001b[0m\u001b[0;34m\u001b[0m\u001b[0;34m\u001b[0m\u001b[0m\n\u001b[1;32m      5\u001b[0m \u001b[0;34m\u001b[0m\u001b[0m\n",
      "\u001b[0;31mNameError\u001b[0m: name 'data' is not defined"
     ]
    }
   ],
   "source": [
    "\n",
    "\n",
    "\n",
    "data['DATE'] = pd.to_datetime(data['DATE'])  \n",
    "\n",
    "\n",
    "data = data[(data['DATE'].dt.year >= 2020) & (data['DATE'].dt.year <= 2022)]\n",
    "\n",
    "\n",
    "plt.gca().xaxis.set_major_formatter(plt.matplotlib.dates.DateFormatter('%Y'))\n",
    "\n",
    "\n",
    "plt.plot(data['DATE'], data['TDSP'])\n",
    "plt.xlabel('Year')\n",
    "plt.ylabel('TDSP')\n",
    "plt.title('TDSP from 2020 to 2022')\n",
    "plt.show()\n"
   ]
  },
  {
   "cell_type": "code",
   "execution_count": 14,
   "metadata": {},
   "outputs": [
    {
     "data": {
      "image/png": "[encoded data removed]",
      "text/plain": [
       "<Figure size 432x288 with 1 Axes>"
      ]
     },
     "metadata": {
      "needs_background": "light"
     },
     "output_type": "display_data"
    }
   ],
   "source": [
    "import pandas as pd\n",
    "import matplotlib.pyplot as plt\n",
    "\n",
    "\n",
    "data = pd.read_csv('TDSP.csv')\n",
    "\n",
    "\n",
    "data['DATE'] = pd.to_datetime(data['DATE'])\n",
    "\n",
    "\n",
    "plt.bar(data['DATE'], data['TDSP'])\n",
    "plt.xlabel('Date')\n",
    "plt.ylabel('TDSP')\n",
    "plt.title('TDSP over time')\n",
    "plt.show()\n"
   ]
  },
  {
   "cell_type": "code",
   "execution_count": 18,
   "metadata": {},
   "outputs": [
    {
     "data": {
      "image/png": "[encoded data removed]",
      "text/plain": [
       "<Figure size 432x288 with 1 Axes>"
      ]
     },
     "metadata": {},
     "output_type": "display_data"
    }
   ],
   "source": [
    "import pandas as pd\n",
    "import matplotlib.pyplot as plt\n",
    "\n",
    "\n",
    "data = pd.read_csv('TDSP.csv')\n",
    "\n",
    "\n",
    "data['DATE'] = pd.to_datetime(data['DATE'])\n",
    "\n",
    "\n",
    "data_2022 = data[data['DATE'].dt.year == 2022]\n",
    "\n",
    "\n",
    "plt.pie(data_2022['TDSP'], labels=data_2022['DATE'], autopct='%1.1f%%')\n",
    "plt.title('TDSP in 2022')\n",
    "plt.show()\n",
    "\n",
    "\n"
   ]
  },
  {
   "cell_type": "code",
   "execution_count": 19,
   "metadata": {},
   "outputs": [
    {
     "name": "stdout",
     "output_type": "stream",
     "text": [
      "Mean: 9.275079666666665\n",
      "Median: 9.295755\n",
      "Mode: 8.328619\n"
     ]
    }
   ],
   "source": [
    "import pandas as pd\n",
    "import numpy as np\n",
    "\n",
    "data = pd.read_csv('TDSP.csv')\n",
    "\n",
    "data['DATE'] = pd.to_datetime(data['DATE'])\n",
    "data_2020_2022 = data.loc[(data['DATE'].dt.year >= 2020) & (data['DATE'].dt.year <= 2022)]\n",
    "\n",
    "mean = np.mean(data_2020_2022['TDSP'])\n",
    "median = np.median(data_2020_2022['TDSP'])\n",
    "mode = data_2020_2022['TDSP'].mode()[0]\n",
    "\n",
    "\n",
    "print('Mean:', mean)\n",
    "print('Median:', median)\n",
    "print('Mode:', mode)\n"
   ]
  },
  {
   "cell_type": "code",
   "execution_count": 23,
   "metadata": {},
   "outputs": [
    {
     "name": "stdout",
     "output_type": "stream",
     "text": [
      "2020: Median = 9.212872, Mode = 8.790223, Mean = 9.24077575\n",
      "2021: Median = 9.089303000000001, Mode = 8.328619, Mean = 8.943986\n",
      "2022: Median = 9.662044, Mode = 9.535774, Mean = 9.64047725\n"
     ]
    }
   ],
   "source": [
    "\n",
    "\n",
    "\n",
    "data['DATE'] = pd.to_datetime(data['DATE'])\n",
    "\n",
    "\n",
    "data_2020 = data[data['DATE'].dt.year == 2020]\n",
    "data_2021 = data[data['DATE'].dt.year == 2021]\n",
    "data_2022 = data[data['DATE'].dt.year == 2022]\n",
    "\n",
    "\n",
    "median_2020 = data_2020['TDSP'].median()\n",
    "mode_2020 = data_2020['TDSP'].mode()[0]\n",
    "mean_2020 = data_2020['TDSP'].mean()\n",
    "\n",
    "median_2021 = data_2021['TDSP'].median()\n",
    "mode_2021 = data_2021['TDSP'].mode()[0]\n",
    "mean_2021 = data_2021['TDSP'].mean()\n",
    "\n",
    "median_2022 = data_2022['TDSP'].median()\n",
    "mode_2022 = data_2022['TDSP'].mode()[0]\n",
    "mean_2022 = data_2022['TDSP'].mean()\n",
    "\n",
    "print(\"2020: Median = {}, Mode = {}, Mean = {}\".format(median_2020, mode_2020, mean_2020))\n",
    "print(\"2021: Median = {}, Mode = {}, Mean = {}\".format(median_2021, mode_2021, mean_2021))\n",
    "print(\"2022: Median = {}, Mode = {}, Mean = {}\".format(median_2022, mode_2022, mean_2022))\n"
   ]
  },
  {
   "cell_type": "code",
   "execution_count": 26,
   "metadata": {},
   "outputs": [
    {
     "data": {
      "image/png": "[encoded data removed]",
      "text/plain": [
       "<Figure size 432x288 with 1 Axes>"
      ]
     },
     "metadata": {
      "needs_background": "light"
     },
     "output_type": "display_data"
    }
   ],
   "source": [
    "import matplotlib.pyplot as plt\n",
    "\n",
    "years = ['2020', '2021', '2022']\n",
    "median_values = [9.212872, 9.089303000000001, 9.662044]\n",
    "mode_values = [8.790223, 8.328619, 9.535774]\n",
    "mean_values = [9.24077575, 8.943986, 9.64047725]\n",
    "\n",
    "x = range(len(years))\n",
    "width = 0.2\n",
    "\n",
    "fig, ax = plt.subplots()\n",
    "ax.bar(x, median_values, width, label='Median')\n",
    "ax.bar([i+width for i in x], mode_values, width, label='Mode')\n",
    "ax.bar([i+width*2 for i in x], mean_values, width, label='Mean')\n",
    "\n",
    "ax.set_xticks([i+width for i in x])\n",
    "ax.set_xticklabels(years)\n",
    "\n",
    "ax.set_ylabel('Values')\n",
    "ax.set_title('Comparison of Median, Mode, and Mean values for TDSP')\n",
    "\n",
    "ax.legend()\n",
    "plt.show()\n",
    "\n"
   ]
  },
  {
   "cell_type": "code",
   "execution_count": null,
   "metadata": {},
   "outputs": [],
   "source": []
  }
 ],
 "metadata": {
  "anaconda-cloud": {},
  "kernel_info": {
   "name": "python3"
  },
  "kernelspec": {
   "display_name": "Python 3",
   "language": "python",
   "name": "python3"
  },
  "language_info": {
   "codemirror_mode": {
    "name": "ipython",
    "version": 3
   },
   "file_extension": ".py",
   "mimetype": "text/x-python",
   "name": "python",
   "nbconvert_exporter": "python",
   "pygments_lexer": "ipython3",
   "version": "3.8.8"
  },
  "latex_envs": {
   "LaTeX_envs_menu_present": true,
   "autoclose": false,
   "autocomplete": true,
   "bibliofile": "biblio.bib",
   "cite_by": "apalike",
   "current_citInitial": 1,
   "eqLabelWithNumbers": true,
   "eqNumInitial": 1,
   "hotkeys": {
    "equation": "Ctrl-E",
    "itemize": "Ctrl-I"
   },
   "labels_anchors": false,
   "latex_user_defs": false,
   "report_style_numbering": false,
   "user_envs_cfg": false
  },
  "nteract": {
   "version": "0.8.4"
  },
  "vscode": {
   "interpreter": {
    "hash": "5384d77d82de63fd599f73e77f9ec786e7719288bf80a29ec0288c670ac3cf32"
   }
  }
 },
 "nbformat": 4,
 "nbformat_minor": 4
}
